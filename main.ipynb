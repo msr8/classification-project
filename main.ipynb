{
 "cells": [
  {
   "cell_type": "markdown",
   "id": "ac189ee6-c71b-43e5-9186-ec7fdaa70868",
   "metadata": {},
   "source": [
    "# Initialisation"
   ]
  },
  {
   "cell_type": "code",
   "execution_count": 1,
   "id": "6dd6e347-78d2-4080-b764-3b80c7d0c36d",
   "metadata": {},
   "outputs": [
    {
     "name": "stdout",
     "output_type": "stream",
     "text": [
      "<class 'pandas.core.frame.DataFrame'>\n",
      "RangeIndex: 699 entries, 0 to 698\n",
      "Data columns (total 11 columns):\n",
      " #   Column                       Non-Null Count  Dtype \n",
      "---  ------                       --------------  ----- \n",
      " 0   id                           699 non-null    int64 \n",
      " 1   Clump Thickness              699 non-null    int64 \n",
      " 2   Uniformity of Cell Size      699 non-null    int64 \n",
      " 3   Uniformity of Cell Shape     699 non-null    int64 \n",
      " 4   Marginal Adhesion            699 non-null    int64 \n",
      " 5   Single Epithelial Cell Size  699 non-null    int64 \n",
      " 6   Bare Nuclei                  699 non-null    object\n",
      " 7   Bland Chromatin              699 non-null    int64 \n",
      " 8   Normal Nucleoli              699 non-null    int64 \n",
      " 9   Mitoses                      699 non-null    int64 \n",
      " 10  Class                        699 non-null    object\n",
      "dtypes: int64(9), object(2)\n",
      "memory usage: 60.2+ KB\n",
      "None\n"
     ]
    },
    {
     "data": {
      "text/plain": [
       "<Figure size 640x480 with 0 Axes>"
      ]
     },
     "metadata": {},
     "output_type": "display_data"
    }
   ],
   "source": [
    "# Importing necessary modules\n",
    "from sklearn.model_selection import train_test_split\n",
    "from sklearn.metrics         import accuracy_score\n",
    "from sklearn.neighbors       import KNeighborsClassifier\n",
    "from sklearn.svm             import SVC\n",
    "from sklearn.tree            import DecisionTreeClassifier, plot_tree, export_graphviz\n",
    "from IPython.display import Markdown\n",
    "from matplotlib      import pyplot as plt\n",
    "import pandas as pd\n",
    "import numpy  as np\n",
    "import os\n",
    "plt.style.use('style.mplstyle')\n",
    "plt.tight_layout(pad=0.05)\n",
    "os.makedirs('assets', exist_ok=True)\n",
    "\n",
    "# Defining constants\n",
    "DATASET_FP    = 'https://raw.githubusercontent.com/msr8/classification-project/main/breast-cancer-wisconsin.csv'\n",
    "ATTRS         = ['Clump Thickness', 'Uniformity of Cell Size', 'Uniformity of Cell Shape', 'Marginal Adhesion',\n",
    "                  'Single Epithelial Cell Size', 'Bare Nuclei', 'Bland Chromatin', 'Normal Nucleoli', 'Mitoses']\n",
    "LABEL         = 'Class'\n",
    "KS            = [1,101] # First element is included, second is not\n",
    "KERNELS       = ['linear', 'poly', 'rbf', 'sigmoid']\n",
    "DT_CRITERIONS = ['gini', 'entropy', 'log_loss']\n",
    "TEST_SIZE     = 0.2\n",
    "ROUND_FACTOR  = 3\n",
    "RAND_STATE    = 42\n",
    "\n",
    "# Loading dataset\n",
    "data = pd.read_csv(DATASET_FP)\n",
    "# Print info about the dataset\n",
    "print(data.info())"
   ]
  },
  {
   "cell_type": "markdown",
   "id": "b4a44ee2-87cd-47d8-b02a-c5d353232fce",
   "metadata": {},
   "source": [
    "<br>"
   ]
  },
  {
   "cell_type": "markdown",
   "id": "ee48bc60-4082-4cd2-bee4-c00a0eb6e09f",
   "metadata": {},
   "source": [
    "# Preprocessing"
   ]
  },
  {
   "cell_type": "code",
   "execution_count": 2,
   "id": "2659f1b5-8f40-4e74-b61b-4a3f45c5c8f4",
   "metadata": {},
   "outputs": [
    {
     "name": "stdout",
     "output_type": "stream",
     "text": [
      "<class 'pandas.core.frame.DataFrame'>\n",
      "Index: 683 entries, 0 to 698\n",
      "Data columns (total 11 columns):\n",
      " #   Column                       Non-Null Count  Dtype\n",
      "---  ------                       --------------  -----\n",
      " 0   id                           683 non-null    int64\n",
      " 1   Clump Thickness              683 non-null    int64\n",
      " 2   Uniformity of Cell Size      683 non-null    int64\n",
      " 3   Uniformity of Cell Shape     683 non-null    int64\n",
      " 4   Marginal Adhesion            683 non-null    int64\n",
      " 5   Single Epithelial Cell Size  683 non-null    int64\n",
      " 6   Bare Nuclei                  683 non-null    int64\n",
      " 7   Bland Chromatin              683 non-null    int64\n",
      " 8   Normal Nucleoli              683 non-null    int64\n",
      " 9   Mitoses                      683 non-null    int64\n",
      " 10  Class                        683 non-null    int64\n",
      "dtypes: int64(11)\n",
      "memory usage: 64.0 KB\n",
      "None\n"
     ]
    }
   ],
   "source": [
    "# The missing values are represented with '?', replacing them with NA\n",
    "data.replace('?', pd.NA, inplace=True)\n",
    "# Since there are only 16 rows in the dataset with missing values, we can drop them\n",
    "data.dropna(inplace=True)\n",
    "\n",
    "# In the class column, replacing 'benign' with 0 and 'malignant' with 1\n",
    "data['Class'].replace('benign',    0, inplace=True)\n",
    "data['Class'].replace('malignant', 1, inplace=True)\n",
    "# Since all values in the dataframe can be represented as integers, converting them\n",
    "data = data.astype(int)\n",
    "\n",
    "print(data.info())"
   ]
  },
  {
   "cell_type": "markdown",
   "id": "b6c3a562-3f4e-4e8f-83ac-f8a4e6805ebe",
   "metadata": {},
   "source": [
    "<br>"
   ]
  },
  {
   "cell_type": "markdown",
   "id": "1e71826c-49cd-4626-9321-5c70af5fa11c",
   "metadata": {},
   "source": [
    "# Splitting data"
   ]
  },
  {
   "cell_type": "code",
   "execution_count": 3,
   "id": "9fabefa2-2046-4374-ab40-845d26dcb639",
   "metadata": {},
   "outputs": [],
   "source": [
    "# Splitting data into x and y\n",
    "x = data[ATTRS]\n",
    "y = data[LABEL]\n",
    "# Splitting data into train and test sets\n",
    "x_train, x_test, y_train, y_test = train_test_split(x, y, test_size=TEST_SIZE, random_state=RAND_STATE)"
   ]
  },
  {
   "cell_type": "markdown",
   "id": "7d90762e-f63b-4d92-b797-8a41f84ddf74",
   "metadata": {},
   "source": [
    "<br>"
   ]
  },
  {
   "cell_type": "markdown",
   "id": "3a6e257d-fcc8-4048-9bf4-c456dc650252",
   "metadata": {},
   "source": [
    "# KNN"
   ]
  },
  {
   "cell_type": "code",
   "execution_count": 4,
   "id": "495012ed-2529-4f16-a331-590a3f680ead",
   "metadata": {},
   "outputs": [
    {
     "data": {
      "image/png": "[encoded data removed]",
      "text/plain": [
       "<Figure size 640x480 with 1 Axes>"
      ]
     },
     "metadata": {},
     "output_type": "display_data"
    },
    {
     "name": "stdout",
     "output_type": "stream",
     "text": [
      "Lowest accuracy:  0.9124087591240876\n",
      "Highest accuracy: 0.9562043795620438\n"
     ]
    }
   ],
   "source": [
    "accuracies = {}\n",
    "\n",
    "for k in range(*KS):\n",
    "    # Creating a KNN classifier\n",
    "    knn_model = KNeighborsClassifier(n_neighbors=k)\n",
    "    # Training the classifier\n",
    "    knn_model.fit(x_train, y_train)\n",
    "    # Making predictions\n",
    "    y_pred = knn_model.predict(x_test)\n",
    "    # Calculating accuracy\n",
    "    accuracy = accuracy_score(y_test, y_pred)\n",
    "    # Storing it in our dict\n",
    "    accuracies[k] = accuracy\n",
    "\n",
    "# Plotting our findings and displaying them\n",
    "plt.suptitle('Accuracy at varying K')\n",
    "plt.xlabel('K (ie number of neighbours)')\n",
    "plt.ylabel('Accuracy (0-1)')\n",
    "plt.plot(accuracies.keys(), accuracies.values())\n",
    "plt.savefig('assets/knn.png')\n",
    "plt.show()\n",
    "# Displaying lowest and highest accuracy\n",
    "print(f'Lowest accuracy:  {min(accuracies.values())}\\nHighest accuracy: {max(accuracies.values())}')"
   ]
  },
  {
   "cell_type": "markdown",
   "id": "b3bf3c2d-7d23-4278-bfa0-eb4a7af4a3a6",
   "metadata": {},
   "source": [
    "As we can see, our accuracy usually remains above 0.9, and doesn't fluctuate much in higher values of `k`"
   ]
  },
  {
   "cell_type": "markdown",
   "id": "e508fc36-4796-4463-91d7-9af7a2d10bde",
   "metadata": {},
   "source": [
    "<br>"
   ]
  },
  {
   "cell_type": "markdown",
   "id": "cee7d184-11e8-419e-91f5-67d21369978e",
   "metadata": {},
   "source": [
    "# SVM"
   ]
  },
  {
   "cell_type": "code",
   "execution_count": 5,
   "id": "4c47c4b2-7bb2-452c-accf-56bbeb22f996",
   "metadata": {},
   "outputs": [
    {
     "data": {
      "image/png": "[encoded data removed]",
      "text/plain": [
       "<Figure size 640x480 with 1 Axes>"
      ]
     },
     "metadata": {},
     "output_type": "display_data"
    }
   ],
   "source": [
    "accuracies = {}\n",
    "\n",
    "for kernel in KERNELS:\n",
    "    # Creating a SVM classifier\n",
    "    svm_model = SVC(kernel=kernel)\n",
    "    # Training the classifier\n",
    "    svm_model.fit(x_train, y_train)\n",
    "    # Making predictions\n",
    "    y_pred = svm_model.predict(x_test)\n",
    "    # Calculating accuracy\n",
    "    accuracy = accuracy_score(y_test, y_pred)\n",
    "    # Storing it in our dict\n",
    "    accuracies[kernel] = accuracy\n",
    "\n",
    "# Plotting our findings and displaying them\n",
    "plt.suptitle('Accuracies of different kernels')\n",
    "# plt.title?\n",
    "plt.xlabel('Kernel')\n",
    "plt.ylabel('Accuracy (0-1)')\n",
    "x_vals = [f'{i} ({round(accuracies[i],ROUND_FACTOR)})' for i in accuracies.keys()]\n",
    "plt.bar(x_vals, accuracies.values())\n",
    "plt.savefig('assets/svm.png')\n",
    "plt.show()"
   ]
  },
  {
   "cell_type": "markdown",
   "id": "f20b8e02-e7cd-4e1c-ba20-a46842815421",
   "metadata": {},
   "source": [
    "As we can see, our accuracy is very high using linear, poly, or rbf kernels, but worse than random when using the sigmoid kernel"
   ]
  },
  {
   "cell_type": "markdown",
   "id": "05cd4721-a43e-4d38-975e-8990aa689089",
   "metadata": {},
   "source": [
    "<br>"
   ]
  },
  {
   "cell_type": "markdown",
   "id": "1cc46e31-b51e-4ead-aa35-4ca473f6d8b5",
   "metadata": {},
   "source": [
    "# Decision Tree"
   ]
  },
  {
   "cell_type": "code",
   "execution_count": null,
   "id": "398d62da-aa93-491c-b82d-58c85cca2596",
   "metadata": {},
   "outputs": [],
   "source": [
    "plt.style.use('style.mplstyle')\n",
    "accuracies = {}\n",
    "\n",
    "fig, axs = plt.subplots(3)\n",
    "for i,criterion in enumerate(DT_CRITERIONS):\n",
    "    # Creating a Decision Tree classifier\n",
    "    dt_model = DecisionTreeClassifier(criterion=criterion, random_state=RAND_STATE)\n",
    "    # Training the classifier\n",
    "    dt_model.fit(x_train, y_train)\n",
    "    # Making predictions\n",
    "    y_pred = dt_model.predict(x_test)\n",
    "    # Calculating accuracy\n",
    "    accuracy = accuracy_score(y_test, y_pred)\n",
    "    # Storing it in our dict\n",
    "    accuracies[criterion] = accuracy\n",
    "    # Displaying the decision tree\n",
    "    plot_tree(dt_model, feature_names=ATTRS, class_names=['benign','malignant'], filled=True, ax=axs[i])\n",
    "    axs[i].set_title(criterion.capitalize())\n",
    "plt.savefig(f'assets/dtree-representations.png') #bbox_inches to remove big right and left margin\n",
    "plt.show()\n",
    "\n",
    "# Plotting our findings and displaying them\n",
    "plt.suptitle('Accuracies of different criterions')\n",
    "plt.xlabel('Criterion')\n",
    "plt.ylabel('Accuracy (0-1)')\n",
    "x_vals = [f'{i} ({round(accuracies[i],ROUND_FACTOR)})' for i in accuracies.keys()]\n",
    "plt.bar(x_vals, accuracies.values())\n",
    "plt.savefig('assets/dtree.png')\n",
    "plt.show()"
   ]
  },
  {
   "cell_type": "markdown",
   "id": "b6b7c942-b48d-481f-9bdc-e3db9b0a49ce",
   "metadata": {},
   "source": [
    "<br>"
   ]
  }
 ],
 "metadata": {
  "kernelspec": {
   "display_name": "Python 3 (ipykernel)",
   "language": "python",
   "name": "python3"
  },
  "language_info": {
   "codemirror_mode": {
    "name": "ipython",
    "version": 3
   },
   "file_extension": ".py",
   "mimetype": "text/x-python",
   "name": "python",
   "nbconvert_exporter": "python",
   "pygments_lexer": "ipython3",
   "version": "3.11.3"
  }
 },
 "nbformat": 4,
 "nbformat_minor": 5
}
